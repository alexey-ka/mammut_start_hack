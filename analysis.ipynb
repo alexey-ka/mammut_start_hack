{
 "cells": [
  {
   "cell_type": "code",
   "execution_count": 5,
   "metadata": {},
   "outputs": [
    {
     "data": {
      "text/plain": [
       "{}"
      ]
     },
     "execution_count": 5,
     "metadata": {},
     "output_type": "execute_result"
    }
   ],
   "source": [
    "import json\n",
    "import datetime\n",
    "import os\n",
    "from pathlib import Path\n",
    "import h5py\n",
    "\n",
    "root_dir = Path(os.getcwd())\n",
    "data_dir = root_dir/Path('data')\n",
    "vertical_dir = data_dir/Path('vertical')\n",
    "vertical_fn = '40587108-e1a8-56ae-8c7f-1853f009b7c6.json'\n",
    "\n",
    "\n",
    "def get_climb(climbid):\n",
    "    df = {}\n",
    "    with open(str(vertical_dir/Path(vertical_fn)), 'r') as data_file:\n",
    "        df_json = json.load(data_file)\n",
    "#         df['']\n",
    "        return df\n",
    "\n",
    "get_climb(0)"
   ]
  },
  {
   "cell_type": "code",
   "execution_count": 6,
   "metadata": {},
   "outputs": [],
   "source": [
    "f = h5py.File(vertical_dir/'40587108-e1a8-56ae-8c7f-1853f009b7c6.h5', 'r')"
   ]
  },
  {
   "cell_type": "code",
   "execution_count": 24,
   "metadata": {},
   "outputs": [],
   "source": [
    "n_climbs = len(list(f['climbs'])) - 1"
   ]
  },
  {
   "cell_type": "code",
   "execution_count": 99,
   "metadata": {},
   "outputs": [],
   "source": [
    "height_profile = list(f['climbs']['0']['height_profile'])\n",
    "datetime.datetime.fromtimestamp(list(f['climbs']['0']['moves_LH'])[0][0])\n",
    "df_json_l = {}\n",
    "df_json_r = {}\n",
    "columns_l = ['start_time_lh','end_time_lh','duration_lh','hand_on_lh']\n",
    "columns_r = ['start_time_rh','end_time_rh','duration_rh','hand_on_rh']\n",
    "for col in columns_l:\n",
    "    df_json_l[col] = []\n",
    "for col in columns_r:\n",
    "    df_json_r[col] = []\n",
    "    \n",
    "for lh_move in list(f['climbs']['0']['moves_LH']):\n",
    "#     df_json['start_time_lh']\n",
    "    df_json_l['start_time_lh'].append(datetime.datetime.fromtimestamp(lh_move[0]))\n",
    "    df_json_l['end_time_lh'].append(datetime.datetime.fromtimestamp(lh_move[1]))\n",
    "    df_json_l['duration_lh'].append(lh_move[2])\n",
    "    df_json_l['hand_on_lh'].append(lh_move[3])\n",
    "    \n",
    "for rh_move in list(f['climbs']['0']['moves_RH']):\n",
    "#     df_json['start_time_lh']\n",
    "    df_json_r['start_time_rh'].append(datetime.datetime.fromtimestamp(rh_move[0]))\n",
    "    df_json_r['end_time_rh'].append(datetime.datetime.fromtimestamp(rh_move[1]))\n",
    "    df_json_r['duration_rh'].append(rh_move[2])\n",
    "    df_json_r['hand_on_rh'].append(rh_move[3])"
   ]
  },
  {
   "cell_type": "code",
   "execution_count": 52,
   "metadata": {},
   "outputs": [
    {
     "name": "stdout",
     "output_type": "stream",
     "text": [
      "start_time_lh-13\n",
      "end_time_lh-13\n",
      "start_time_rh-14\n",
      "end_time_rh-14\n",
      "duration_lh-13\n",
      "duration_rh-14\n",
      "hand_on_lh-13\n",
      "hand_on_rh-14\n"
     ]
    }
   ],
   "source": [
    "for col in columns:\n",
    "    print('{}-{}'.format(col,len(df_json[col])))"
   ]
  },
  {
   "cell_type": "code",
   "execution_count": 88,
   "metadata": {},
   "outputs": [],
   "source": [
    "import pandas as pd\n",
    "df_r = pd.DataFrame(df_json_r)\n",
    "df_r['start_time_min'] = df_r['start_time_rh'].map(lambda x:str(x.hour)+':'+str(x.minute))\n",
    "df_r_agg = df_r.groupby('start_time_min').agg({'duration_rh':['mean','count']}).reset_index()\n",
    "movement_per_minute_r = df_r_agg[(   'duration_rh', 'count')].mean()\n",
    "\n",
    "\n",
    "df_l = pd.DataFrame(df_json_l)\n",
    "df_l['start_time_min'] = df_l['start_time_lh'].map(lambda x:str(x.hour)+':'+str(x.minute))\n",
    "df_l_agg = df_l.groupby('start_time_min').agg({'duration_lh':['mean','count']}).reset_index()\n",
    "movement_per_minute_l = df_l_agg[(   'duration_lh', 'count')].mean()\n",
    "\n",
    "min_start_time = min(df_l['start_time_lh'][0],df_r['start_time_rh'][0])\n",
    "max_end_time = min(df_l['end_time_lh'][len(df_l)-1],df_r['end_time_rh'][len(df_r)-1])"
   ]
  },
  {
   "cell_type": "code",
   "execution_count": 107,
   "metadata": {},
   "outputs": [],
   "source": [
    "total_time_seconds = (max_end_time-min_start_time).seconds\n",
    "mean_height_meas_time = len(height_profile)/total_time_seconds\n",
    "max_index = height_profile.index(max(height_profile))\n",
    "height_diff = max(height_profile) - min(height_profile)\n",
    "mean_climbing_speed = round(height_diff/max_index*mean_height_meas_time,3)\n"
   ]
  },
  {
   "cell_type": "code",
   "execution_count": 2,
   "metadata": {},
   "outputs": [
    {
     "name": "stdout",
     "output_type": "stream",
     "text": [
      "2021-02-25T13:30:36.519999981+00:00\n"
     ]
    }
   ],
   "source": [
    "df = {}\n",
    "with open(str(vertical_dir/Path(vertical_fn)), 'r') as data_file:\n",
    "    df_json = json.load(data_file)\n",
    "    print(df_json['data']['start_time'])"
   ]
  },
  {
   "cell_type": "code",
   "execution_count": 101,
   "metadata": {},
   "outputs": [
    {
     "data": {
      "text/plain": [
       "10.104285109353743"
      ]
     },
     "execution_count": 101,
     "metadata": {},
     "output_type": "execute_result"
    }
   ],
   "source": []
  },
  {
   "cell_type": "code",
   "execution_count": 3,
   "metadata": {},
   "outputs": [],
   "source": [
    "def parse_time(timestamp):\n",
    "    timestamp = timestamp.split('+')[0].replace('T',' ')\n",
    "    # temporarily 'round' the milliseconds\n",
    "    return datetime.datetime.strptime(timestamp[:-3],'%Y-%m-%d %H:%M:%S.%f')"
   ]
  },
  {
   "cell_type": "code",
   "execution_count": 4,
   "metadata": {},
   "outputs": [
    {
     "data": {
      "text/plain": [
       "datetime.datetime(2021, 2, 25, 13, 30, 36, 519999)"
      ]
     },
     "execution_count": 4,
     "metadata": {},
     "output_type": "execute_result"
    }
   ],
   "source": [
    "parse_time('2021-02-25T13:30:36.519999981+00:00')"
   ]
  }
 ],
 "metadata": {
  "kernelspec": {
   "display_name": "Python 3",
   "language": "python",
   "name": "python3"
  },
  "language_info": {
   "codemirror_mode": {
    "name": "ipython",
    "version": 3
   },
   "file_extension": ".py",
   "mimetype": "text/x-python",
   "name": "python",
   "nbconvert_exporter": "python",
   "pygments_lexer": "ipython3",
   "version": "3.9.1"
  }
 },
 "nbformat": 4,
 "nbformat_minor": 1
}
